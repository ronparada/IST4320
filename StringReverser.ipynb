{
 "cells": [
  {
   "cell_type": "code",
   "execution_count": 1,
   "id": "d0aeeacb-635f-4035-92df-522fe285dae6",
   "metadata": {
    "tags": []
   },
   "outputs": [
    {
     "data": {
      "application/vnd.jupyter.widget-view+json": {
       "model_id": "efa221b41a07449eb91ed71a97b2cfd4",
       "version_major": 2,
       "version_minor": 0
      },
      "text/plain": [
       "Text(value='', description='String:')"
      ]
     },
     "metadata": {},
     "output_type": "display_data"
    },
    {
     "data": {
      "application/vnd.jupyter.widget-view+json": {
       "model_id": "227db2991567465dad0dfdb731a4f966",
       "version_major": 2,
       "version_minor": 0
      },
      "text/plain": [
       "Button(description='Reverse', style=ButtonStyle())"
      ]
     },
     "metadata": {},
     "output_type": "display_data"
    },
    {
     "data": {
      "application/vnd.jupyter.widget-view+json": {
       "model_id": "4d8fd062403148729155b2cf4f026c38",
       "version_major": 2,
       "version_minor": 0
      },
      "text/plain": [
       "Output()"
      ]
     },
     "metadata": {},
     "output_type": "display_data"
    }
   ],
   "source": [
    "import ipywidgets as widgets\n",
    "from IPython.display import display, clear_output\n",
    "\n",
    "# Function to reverse the string\n",
    "def reverse_string(s):\n",
    "    return s[::-1]\n",
    "\n",
    "# Widgets\n",
    "string_input = widgets.Text(description='String:')\n",
    "reverse_button = widgets.Button(description='Reverse')\n",
    "output = widgets.Output()\n",
    "\n",
    "# Display widgets\n",
    "display(string_input, reverse_button, output)\n",
    "\n",
    "# Button event handler\n",
    "def on_reverse_button_clicked(b):\n",
    "    with output:\n",
    "        clear_output()\n",
    "        result = reverse_string(string_input.value)\n",
    "        print(f\"The reversed string is: {result}\")\n",
    "\n",
    "reverse_button.on_click(on_reverse_button_clicked)\n"
   ]
  },
  {
   "cell_type": "code",
   "execution_count": null,
   "id": "c1b703d6-fcc5-452c-adcb-45cacd15cca4",
   "metadata": {},
   "outputs": [],
   "source": []
  }
 ],
 "metadata": {
  "kernelspec": {
   "display_name": "Python 3 (ipykernel)",
   "language": "python",
   "name": "python3"
  },
  "language_info": {
   "codemirror_mode": {
    "name": "ipython",
    "version": 3
   },
   "file_extension": ".py",
   "mimetype": "text/x-python",
   "name": "python",
   "nbconvert_exporter": "python",
   "pygments_lexer": "ipython3",
   "version": "3.11.5"
  }
 },
 "nbformat": 4,
 "nbformat_minor": 5
}
