{
 "cells": [
  {
   "cell_type": "code",
   "execution_count": 2,
   "id": "ce0d5bc6-e96c-413c-9cde-4aa464ec961b",
   "metadata": {
    "tags": []
   },
   "outputs": [
    {
     "data": {
      "application/vnd.jupyter.widget-view+json": {
       "model_id": "3a5ddc292d994ef283df6d6f4a412bdb",
       "version_major": 2,
       "version_minor": 0
      },
      "text/plain": [
       "FloatText(value=0.0, description='Number:')"
      ]
     },
     "metadata": {},
     "output_type": "display_data"
    },
    {
     "data": {
      "application/vnd.jupyter.widget-view+json": {
       "model_id": "17dc56b1219c4e6ba8ee3145a27ffd5e",
       "version_major": 2,
       "version_minor": 0
      },
      "text/plain": [
       "Button(description='Double', style=ButtonStyle())"
      ]
     },
     "metadata": {},
     "output_type": "display_data"
    },
    {
     "data": {
      "application/vnd.jupyter.widget-view+json": {
       "model_id": "375cdb77c7d14390abec9a25f98e9f9b",
       "version_major": 2,
       "version_minor": 0
      },
      "text/plain": [
       "Output()"
      ]
     },
     "metadata": {},
     "output_type": "display_data"
    }
   ],
   "source": [
    "import ipywidgets as widgets\n",
    "from IPython.display import display, clear_output\n",
    "\n",
    "# Function to double the number\n",
    "def double_number(num):\n",
    "    return num * 2\n",
    "\n",
    "# Widgets\n",
    "number_input = widgets.FloatText(description='Number:')\n",
    "double_button = widgets.Button(description='Double')\n",
    "output = widgets.Output()\n",
    "\n",
    "# Display widgets\n",
    "display(number_input, double_button, output)\n",
    "\n",
    "# Button event handler\n",
    "def on_double_button_clicked(b):\n",
    "    with output:\n",
    "        clear_output()\n",
    "        result = double_number(number_input.value)\n",
    "        print(f\"The doubled number is: {result}\")\n",
    "\n",
    "double_button.on_click(on_double_button_clicked)\n"
   ]
  },
  {
   "cell_type": "code",
   "execution_count": null,
   "id": "7d7ea1e5-03ee-455b-95b6-224f97870999",
   "metadata": {},
   "outputs": [],
   "source": []
  }
 ],
 "metadata": {
  "kernelspec": {
   "display_name": "Python 3 (ipykernel)",
   "language": "python",
   "name": "python3"
  },
  "language_info": {
   "codemirror_mode": {
    "name": "ipython",
    "version": 3
   },
   "file_extension": ".py",
   "mimetype": "text/x-python",
   "name": "python",
   "nbconvert_exporter": "python",
   "pygments_lexer": "ipython3",
   "version": "3.11.5"
  }
 },
 "nbformat": 4,
 "nbformat_minor": 5
}
